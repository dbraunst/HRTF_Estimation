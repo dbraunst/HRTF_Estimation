{
 "cells": [
  {
   "cell_type": "markdown",
   "metadata": {},
   "source": [
    "## Program Design\n",
    "\n",
    "### Folder Heirarchy\n",
    "\n",
    "```\n",
    "project\n",
    "│   README.md\n",
    "|   markdown-cheatsheet-online.pdf\n",
    "│   HRTF_Estimation.ipynb    \n",
    "|\n",
    "│\n",
    "└───Audio_devtest   #to test file iteration + processing not at-scale\n",
    "│   │   file011.txt\n",
    "|   │   file012.txt\n",
    "│   └───MOS_test\n",
    "│       │   file111.txt\n",
    "│   \n",
    "└───otherFolders\n",
    "    │   file021.txt\n",
    "```\n",
    "\n",
    "### Logical Flow\n",
    "1. Generate Database\n",
    "    1. Generate Annotated Database (ambi_DB) of Ambisonic Representations of MongoDB Soundsources\n",
    "    2. Obtain multiple HRTFs (HRTF_DB), annotated\n",
    "    3. Create Secondary Annotated Database (main_DB) by convolving each in ambi_DB with each in HRTF_DB\n",
    "2. Obtain MOS\n",
    "    1. for each in main_DB\n",
    "        1. Obtain 1 MOS for each in HRTF_DB\n",
    "        2. Compare MOS values \n",
    "            a. search for hyperparameters that yield strong correlations\n",
    "        3. Determine used HRTF for this from main_DB\n",
    "3. Analysis + Discussion"
   ]
  },
  {
   "cell_type": "code",
   "execution_count": null,
   "metadata": {},
   "outputs": [],
   "source": [
    "'''obtain_MOS notes / working thoughts:\n",
    "\n",
    "--Before running the system, the input test signals are\n",
    "assumed to be standardized/normalized to unitlength\n",
    "and zero-mean, and the processed signal is\n",
    "assumed to have been centered to zero-mean.\n",
    "    ?? Is this still relevant? Need to test\n",
    "    \n",
    "--EN method requires HRIR, not SOFA\n",
    "\n",
    "\n",
    "\n",
    "'''"
   ]
  },
  {
   "cell_type": "markdown",
   "metadata": {},
   "source": [
    "## MOS Calculation\n",
    "\n",
    "For one processed HRIR$(\\alpha, \\varphi)$ and test set of HRIRs indexed by $(\\theta,\\phi)$\n",
    "\n",
    "Transform each into freq domain (fft)\n",
    "log scale (magnitude dB)\n",
    "\n",
    "Compare each processed HRIR$(\\alpha, \\varphi)$ to every in test set HRIR$(\\theta,\\phi)$ \n",
    "via both Elastic-Net Regression and Jensen-Shannon Distance\n",
    "\n",
    "### Elastic-Net Regression (EN)\n",
    "\n",
    "$\\hat{\\beta} = argmin_\\beta||\\textbf{y}- \\textbf{X}\\beta||^2 + \\delta||\\beta||^2 + \\lambda||\\beta||_1$\n",
    "\n",
    "where: \n",
    "- **y** is the processed signal, \n",
    "- **X** is a matrix where each column is one HRIR from test set HRIR(θ,ϕ)\n",
    "- $\\beta$ is vector of coefficients produced by fitting the model\n",
    "- \"L2 norm\" is defined as $||n||^2 = \\sqrt{(|a|^2 + |b|^2)}$\n",
    "    - where $n = (a, b)$ \n",
    "- δ is the L2 norm shrinkage parameter\n",
    "\n",
    "- \"L1 norm\" is defined as $||n||_1 = |a| + |b|$\n",
    "    - where $n = (a, b)$     \n",
    "- λ is the L1 norm shrinkage parameter\n",
    "    \n",
    "and:\n",
    "- $\\hat{\\beta}$ is the returned vector of coefficients, representing load on each predictor from test HRIR$(\\theta,\\phi)$ to reproduce the input response vector of HRIR$(\\alpha, \\varphi)$.\n",
    "\n",
    "### Jenson-Shannon Distance (JSD)\n",
    "\n",
    "Bounded and symmertical Kullback-Leibler (KL) divergence, measurement of similairty between two distributions. \n",
    "\n",
    "Computes the distance between the processed HRIR and all in test set. Lower values indivate statistically similar distributions, JSD of zero being identical. \n",
    "\n",
    "$JSD(P||T) = \\sqrt{\\frac{1}{2}[KL(P||\\frac{P+T}{2}) + KL(T||\\frac{P+T}{2})]}$\n",
    "\n",
    "where: \n",
    "- $KL(P||T) = \\sum(P(x)\\frac{P(x)}{T(x)})$\n",
    "- $P$ is the processed HRIR response\n",
    "- $T$ is every member of Test HRIR set\n",
    "\n",
    "### E-N distance computation\n",
    "\n",
    "After computing EN distance between processed response signal HRIR$(\\alpha, \\varphi)$ and every member of the test set HRIR$(\\theta,\\phi)$, the returned $\\hat{\\beta}$ coefficients are indeced by \\theta and \\phi. \n",
    "\n",
    "Centroid + StdDev of $\\hat{\\beta}$ coefficients are of interest, as wel as angular distance from computed centroid to intended rendering position. Centroid must be calculated by first shifting distribution to center of image. \n",
    "\n",
    "**MOS-1** is the angular distance of computed centroid -> intended location\n",
    "\n",
    "**MOS-2** is the std deviation of $\\hat{\\beta}$ coefficients as diffuse estimator\n",
    "\n",
    "### JSD computation\n",
    "\n",
    "JSD computed between processed HRIR$(\\alpha, \\varphi)$ and all in computed HRIR$(\\theta,\\phi)$, each value subtracted from 1 and plotted along azimuth + elevation axes. \n",
    "\n",
    "Angular Distance Map (ADM) is computed distance between intended location + every other location. ADM normalized between 0-1. \n",
    "\n",
    "**MOS-3** value at the index of ADM primary return index (highest coefficient value) of the JSD. Smaller MOS-3, more accurate rendering. \n",
    "\n",
    "**MOS-4** sum of all JSD coefficients multiplied by corresponding ADM values. Smaller MOS-4: more compact image. "
   ]
  },
  {
   "cell_type": "code",
   "execution_count": 2,
   "metadata": {},
   "outputs": [],
   "source": [
    "def read_in_HRTF(folderpath, filetype=\".wav\", verbose=False):\n",
    "\n",
    "    '''\n",
    "    Reads in an HRTF from file into a 72-by-15 array of stereo impulse responses\n",
    "    \n",
    "    HRTF Ele Positions(12): -75, -60, -45, -30, -15, 0, 15, 30, 45, 60, 75, 90\n",
    "         Azi Positions(72): 0:355[::5]\n",
    "    \n",
    "    \n",
    "    Parameters\n",
    "    ----------\n",
    "        folderpath (string) : \n",
    "        \n",
    "        \n",
    "        filetype (string) : which type of HRTF file this function will look for, \n",
    "            currently only working with .wav, but planning to extend to .sofa.\n",
    "        \n",
    "        \"WAV\" will search for .wav files, located in subfolder ##K_##bit\n",
    "            filenaming convention is \"azi_#,#_ele_#,#.wav\"\n",
    "            \n",
    "            ##K is Sample Rate\n",
    "            ##bit is bit depth\n",
    "            Commas represent decimals, prepend (-) if negative.\n",
    "            e.g. 15 deg azi, -17.3 deg ele = \"azi_15,0_ele_-17,3.wav\"\n",
    "        \n",
    "        \"sofa\" will search for .sofa files\n",
    "            filenaming convention is \"D#_##K_##bit_###tap_FIR_SOFA.sofa\"\n",
    "            \n",
    "            D# is HRTF subject no. (SADIE II database)\n",
    "            ##K is Sample Rate\n",
    "            ##bit is bit depth\n",
    "            ###tap is FIR length in samples\n",
    "            e.g. \"D2_48K_24bit_256tap_FIR_SOFA.sofa\"\n",
    "\n",
    "    Returns\n",
    "    -------\n",
    "    \n",
    "        HRTF_out (np.ndarray, shape(72,1)) : \n",
    "    '''\n",
    "    \n",
    "    HRTF_out = np.ndarray((72, 12, 2, 256))\n",
    "    \n",
    "    if(verbose==True):\n",
    "        print(\"HRTF Shape:\", HRTF_out.shape)\n",
    "\n",
    "    start_az = 0;\n",
    "    start_el = -75;\n",
    "    \n",
    "    # azimuth and elevation increments of 5 and 15 degrees, respectively\n",
    "    az_inc = 5;\n",
    "    el_inc = 15;\n",
    "    \n",
    "    # number of azimuth and elevation measurements\n",
    "    num_azi = 72;\n",
    "    num_ele = 12;\n",
    "    \n",
    "    for az_idx in range(0, num_azi):\n",
    "        for el_idx in range(0, num_ele):\n",
    "            curr_az = start_az + int(az_idx * az_inc);\n",
    "            curr_el = start_el + int(el_idx * el_inc);\n",
    "            \n",
    "            filename = folderpath + \"azi_{:.1f}_ele_{:.1f}\".format(curr_az, curr_el)\\\n",
    "                .replace('.',',') + \".wav\";\n",
    "            \n",
    "            y, sr = librosa.load(filename, sr=None, mono=False);\n",
    "            HRTF_out[az_idx, el_idx] = y;\n",
    "    \n",
    "    return HRTF_out, sr"
   ]
  },
  {
   "cell_type": "code",
   "execution_count": 1,
   "metadata": {},
   "outputs": [],
   "source": [
    "## Imports\n",
    "\n",
    "import numpy as np\n",
    "import librosa\n",
    "import scipy.signal\n",
    "import IPython.display as ipd\n",
    "import sys\n",
    "import os\n",
    "import soundfile as sf\n",
    "\n",
    "from sklearn.linear_model import ElasticNet as EN\n",
    "from sklearn.linear_model import ElasticNetCV\n",
    "from sklearn.datasets import make_regression\n",
    "\n",
    "import matplotlib.pyplot as plt\n",
    "from scipy import ndimage"
   ]
  },
  {
   "cell_type": "code",
   "execution_count": 3,
   "metadata": {},
   "outputs": [
    {
     "name": "stdout",
     "output_type": "stream",
     "text": [
      "(72, 12, 2, 256)\n"
     ]
    }
   ],
   "source": [
    "folderpath = \"HRTFs/D1_HRIR_WAV/48K_24bit/\";\n",
    "kemar_HRTF, sr = read_in_HRTF(folderpath, \".wav\")\n",
    "print(kemar_HRTF.shape)"
   ]
  },
  {
   "cell_type": "code",
   "execution_count": 4,
   "metadata": {},
   "outputs": [],
   "source": [
    "def get_HRIR(HRTF, azi=0, ele=0, warnings=True, verbose=True):\n",
    "    \n",
    "    '''Get the closest corresponding impulse response to \n",
    "    \n",
    "    \n",
    "    Parameters\n",
    "    ----------\n",
    "        HRTF   : np.array, shape(72, 12, 2, 256)\n",
    "            HRTF to pull IR from\n",
    "            \n",
    "        azi : integer\n",
    "            azimuth angle, either 0 < azi < 360 or -180 < azi < 180\n",
    "            \n",
    "        ele : integer\n",
    "            elevation angle,  -75 < ele < 90\n",
    "            \n",
    "        warnings : boolean\n",
    "            allows for warnings printout\n",
    "    \n",
    "    Returns\n",
    "    -------\n",
    "        IR_out  :  np.array, shape(n, 2)\n",
    "            Stereo Impulse response from chosen (or closest) azimuth and elevation\n",
    "    '''\n",
    "    # Flag to print out warning if input azi/ele didn't correspond with \n",
    "    closestChoiceFlag = False;\n",
    "    negAziFlag = False;\n",
    "    nearestAzi = 0;\n",
    "    nearestEle = 0;\n",
    "    \n",
    "    # Check Azimuth input, convert to 0-359 if needed\n",
    "    if (azi < 0 and azi >=-180):\n",
    "        negAzi = azi;\n",
    "        negAziFlag = True; # Adjusts warning for legibility\n",
    "        azi = azi + 360;\n",
    "    elif (azi <= -180 or azi >= 360):\n",
    "        print(\"Error: Azimuth must be between 0 and 360 or -180 and 180. Your input:\", azi);\n",
    "        return -1;\n",
    "    elif (azi == 360):\n",
    "        azi = 0;\n",
    "    \n",
    "    # Check desired Azimuth value against known HRIR azimuth angles\n",
    "    if (azi % 5 == 0):\n",
    "        chosenAzi = azi\n",
    "        aziIdx = int(chosenAzi / 5)\n",
    "    else:\n",
    "        closestChoiceFlag = True;\n",
    "        chosenAzi = ((azi - azi % 5)) + (round(azi % 5 / 5) * 5)\n",
    "        aziIdx = int(chosenAzi / 5)\n",
    "        \n",
    "        \n",
    "    # Check Elevation input\n",
    "    if (ele < -75 or ele > 90):\n",
    "        print(\"Error: Elevation must be between -75 and 90. Your input:\", ele);\n",
    "        return -1;\n",
    "    \n",
    "    # Check desired Elevation value against known HRIR elevation angles\n",
    "    if (ele % 15 == 0):\n",
    "        chosenEle = ele\n",
    "        eleIdx = int((chosenEle + 75) / 15);\n",
    "    else:\n",
    "        closestChoiceFlag = True;\n",
    "        chosenEle = ((ele - ele % 15)) + (round(ele % 15 / 15) * 15)\n",
    "        eleIdx = int((chosenEle + 75) / 15);\n",
    "        \n",
    "    if(verbose == True):\n",
    "        print(\"Azi =\", chosenAzi, \"deg| Ele = \", chosenEle, \"deg\");\n",
    "        print(\"AziIdx =\",aziIdx,\"| EleIdx =\", eleIdx);\n",
    "    \n",
    "    # printout warning\n",
    "    if (warnings == True and closestChoiceFlag == True):\n",
    "        if (negAziFlag == True):\n",
    "            print(\"Warning! Chosen Azi, Ele of [\", negAzi, ele, \"] do not match current HRTF set.\",\\\n",
    "             \"\\nUsing nearest Azi, Ele fit of [\", (chosenAzi - 360), chosenEle,\\\n",
    "             \"]\\n...To disable this warning, call function with 'warnings=False' \");\n",
    "        else: \n",
    "            print(\"Warning! Chosen Azi, Ele of [\", azi, ele, \"] do not match current HRTF set.\",\\\n",
    "             \"\\nUsing nearest Azi, Ele fit of [\", chosenAzi, chosenEle,\\\n",
    "             \"]\\n...To disable this warning, call function with 'warnings=False' \");\n",
    "            \n",
    "    output = HRTF[aziIdx, eleIdx]\n",
    "    \n",
    "    return output"
   ]
  },
  {
   "cell_type": "code",
   "execution_count": 5,
   "metadata": {},
   "outputs": [
    {
     "name": "stdout",
     "output_type": "stream",
     "text": [
      "Azi = 315 deg| Ele =  45 deg\n",
      "AziIdx = 63 | EleIdx = 8\n"
     ]
    }
   ],
   "source": [
    "## read_in_HRTF Testing\n",
    "folderpath = \"HRTFs/D1_HRIR_WAV/48K_24bit/\";\n",
    "kemar_HRTF, sr = read_in_HRTF(folderpath, \".wav\")\n",
    "\n",
    "## get_HRIR Testing\n",
    "convIR = get_HRIR(kemar_HRTF, -45, 45, warnings=True)\n",
    "# ipd.Audio(convIR, rate=sr)"
   ]
  },
  {
   "cell_type": "code",
   "execution_count": 6,
   "metadata": {},
   "outputs": [],
   "source": [
    "## Rudimentary Convolution Testing - requires cell above to be run\n",
    "\n",
    "## Load in sample to convolve\n",
    "audiofile = \"Bebop Drumset 08.wav\";\n",
    "y, sr2 = librosa.load(audiofile, sr=48000, mono=False, duration=1.5);  \n",
    "\n",
    "# don't ask me why I had to swap channels to preserve L/R, I don't know\n",
    "G = np.array([scipy.signal.fftconvolve(y[0], convIR[1]), scipy.signal.fftconvolve(y[1], convIR[0])])\n",
    "\n",
    "# ipd.Audio(G, rate = sr)"
   ]
  },
  {
   "cell_type": "code",
   "execution_count": 7,
   "metadata": {},
   "outputs": [],
   "source": [
    "def dB_weighted_fft(signal):\n",
    "    '''\n",
    "    Parameters\n",
    "    ----------\n",
    "    signal : np.ndarray [shape=(2,n)]\n",
    "\n",
    "    Returns\n",
    "    -------\n",
    "    \n",
    "    dB-weighted magnitude FFT of signal [shape=(2,(N_FFT / 2) - 1)]\n",
    "    '''\n",
    "    \n",
    "    sig_L_fft = 20 * np.log10(np.abs(scipy.fft.fft(signal[0])))\n",
    "    sig_R_fft = 20 * np.log10(np.abs(scipy.fft.fft(signal[1])))\n",
    "    \n",
    "    sig_L_fft = sig_L_fft[0:int(len(sig_L_fft)/2)]\n",
    "    \n",
    "    sig_R_fft = sig_R_fft[0:int(len(sig_R_fft)/2)]\n",
    "    \n",
    "    db_weighted_signal = np.array([sig_L_fft, sig_R_fft])\n",
    "    return db_weighted_signal\n",
    "\n",
    "## TODO: get batch convolution working so we can start with the MOS calculations\n",
    "\n",
    "\n",
    "    \n",
    "    \n",
    "\n"
   ]
  },
  {
   "cell_type": "code",
   "execution_count": 8,
   "metadata": {},
   "outputs": [],
   "source": [
    "def new_IR_generation(audiofile, IR):\n",
    "    '''\n",
    "    Create a new IR through deconvolving audio signals after digital signal processing\n",
    "    \n",
    "    \n",
    "    Parameters\n",
    "    ----------\n",
    "    audiofile : str\n",
    "        processed audio signal to be deconvolced\n",
    "    \n",
    "    IR : str\n",
    "        impulse response used to deconvolve signal\n",
    "        \n",
    "\n",
    "    Returns\n",
    "    -------\n",
    "    new_IR : np.array, shape (n,2) \n",
    "        new IR representing the digital signal processing \n",
    "    \n",
    "    '''\n",
    "   \n",
    "    processed, fs = librosa.load(audiofile, sr=None, mono=False)\n",
    "    original, fs = librosa.load(IR, sr=None, mono=False)\n",
    "    \n",
    "    #take FFT of both signals\n",
    "    processedFFT = np.fft.fft(processed)\n",
    "    originalFFT = np.fft.fft(original)\n",
    "    \n",
    "    #divide the two frequency complex vectors\n",
    "    newFFT = processedFFT / originalFFT\n",
    "    \n",
    "    #bring back to time domain\n",
    "    newIR = np.fft.ifft(newFFT)\n",
    "    \n",
    "    #cast to real numbers\n",
    "    newIR = np.real(newIR)\n",
    "    \n",
    "    return new_IR"
   ]
  },
  {
   "cell_type": "code",
   "execution_count": 9,
   "metadata": {},
   "outputs": [],
   "source": [
    "def prepare_data(convolved_signal, test_HRTF):\n",
    "    '''\n",
    "    Parameters\n",
    "    ----------\n",
    "    convolved_signal : np.ndarray [shape=(2,n)]\n",
    "    \n",
    "    test_HRTF : np.ndarrray [shape=(72, 12, 2, 256)]\n",
    "\n",
    "    Returns\n",
    "    -------\n",
    "    \n",
    "    db-scaled-fft \n",
    "    \n",
    "    db-scaled-fft-of-HRTFs\n",
    "    '''\n",
    "    \n",
    "    dB_signal = dB_weighted_fft(convolved_signal)\n",
    "    \n",
    "    dB_HRTF = np.empty((test_HRTF.shape[0],test_HRTF.shape[1],test_HRTF.shape[2],int(test_HRTF.shape[3]/2)));\n",
    "    \n",
    "    for n in range (0, test_HRTF.shape[0]):\n",
    "        for m in range (0, test_HRTF.shape[1]):\n",
    "            dB_HRTF[n,m] = dB_weighted_fft(test_HRTF[n,m])\n",
    "        \n",
    "    return dB_signal, dB_HRTF"
   ]
  },
  {
   "cell_type": "code",
   "execution_count": 10,
   "metadata": {},
   "outputs": [],
   "source": [
    "## Testing prepare_data function\n",
    "\n",
    "# G : convolved binaural signal from earlier cell\n",
    "\n",
    "sig, test_HRTF = prepare_data(G, kemar_HRTF)"
   ]
  },
  {
   "cell_type": "markdown",
   "metadata": {},
   "source": [
    "### Elastic-Net Regression (EN)\n",
    "\n",
    "$\\hat{\\beta} = argmin_\\beta||\\textbf{y}- \\textbf{X}\\beta||^2 + \\delta||\\beta||^2 + \\lambda||\\beta||_1$\n",
    "\n",
    "where: \n",
    "- **y** is the processed signal, \n",
    "- **X** is a matrix where each column is one HRIR from test set HRIR(θ,ϕ)\n",
    "- $\\beta$ is vector of coefficients produced by fitting the model\n",
    "- \"L2 norm\" is defined as $||n||^2 = \\sqrt{(|a|^2 + |b|^2)}$\n",
    "    - where $n = (a, b)$ \n",
    "- δ is the L2 norm shrinkage parameter\n",
    "\n",
    "- \"L1 norm\" is defined as $||n||_1 = |a| + |b|$\n",
    "    - where $n = (a, b)$     \n",
    "- λ is the L1 norm shrinkage parameter\n",
    "    \n",
    "and:\n",
    "- $\\hat{\\beta}$ is the returned vector of coefficients, representing load on each predictor from test HRIR$(\\theta,\\phi)$ to reproduce the input response vector of HRIR$(\\alpha, \\varphi)$."
   ]
  },
  {
   "cell_type": "code",
   "execution_count": 11,
   "metadata": {},
   "outputs": [],
   "source": [
    "def flatten_HRTF(input_HRTF):\n",
    "    '''\n",
    "    flattens the first two dimensions of the HRTF, \n",
    "    typically indexed by [azi, ele] for the first two dimensions,\n",
    "    in order to beter work with Elastic-Net Regression\n",
    "    \n",
    "    Parameters\n",
    "    ----------\n",
    "    input_HRTF : np.ndarray, [shape=(72, 12, 2, 256)\n",
    "        \n",
    "\n",
    "    Returns\n",
    "    -------\n",
    "    flattened_HRTF : np.ndarray, [shape=(1008, 2, 256)]\n",
    "    \n",
    "    '''\n",
    "    idx = 0;\n",
    "    flat_len = input_HRTF.shape[0] * input_HRTF.shape[1];\n",
    "    \n",
    "    flattened_HRTF = np.empty((flat_len, 2, 128));\n",
    "    \n",
    "    for i in range(0, input_HRTF.shape[0]):\n",
    "        for j in range(0, input_HRTF.shape[1]):\n",
    "            flattened_HRTF[idx] = input_HRTF[i, j];\n",
    "            idx = idx + 1;\n",
    "    \n",
    "    return flattened_HRTF;\n",
    "\n",
    "def flatten_HRTF_mono(input_HRTF):\n",
    "    \n",
    "    idx = 0;\n",
    "    flat_len = input_HRTF.shape[0] * input_HRTF.shape[1]\n",
    "    \n",
    "    flattened_HRTF_L = np.empty((flat_len, 128));\n",
    "    flattened_HRTF_R = np.empty((flat_len, 128));\n",
    "    \n",
    "    for i in range(0, input_HRTF.shape[0]):\n",
    "        for j in range(0, input_HRTF.shape[1]):\n",
    "            flattened_HRTF_L[idx] = input_HRTF[i, j, 0];\n",
    "            flattened_HRTF_L[idx] = input_HRTF[i, j, 1];\n",
    "            idx = idx + 1;\n",
    "    \n",
    "    return flattened_HRTF_L, flattened_HRTF_R;"
   ]
  },
  {
   "cell_type": "code",
   "execution_count": 12,
   "metadata": {},
   "outputs": [
    {
     "name": "stdout",
     "output_type": "stream",
     "text": [
      "(72, 12, 2, 128)\n"
     ]
    },
    {
     "data": {
      "text/plain": [
       "(864, 2, 128)"
      ]
     },
     "execution_count": 12,
     "metadata": {},
     "output_type": "execute_result"
    }
   ],
   "source": [
    "## Testing flatten_HRTF\n",
    "print(test_HRTF.shape)\n",
    "flat_test = flatten_HRTF(test_HRTF)\n",
    "flat_test.shape"
   ]
  },
  {
   "cell_type": "code",
   "execution_count": 13,
   "metadata": {},
   "outputs": [],
   "source": [
    "def process_elastic_net(azimuth, elevation, db_weighted_HRTF ):\n",
    "    \n",
    "    '''\n",
    "    \n",
    "    \n",
    "    Parameters\n",
    "    ----------\n",
    "    \n",
    "        \n",
    "\n",
    "    Returns\n",
    "    -------\n",
    "    \n",
    "    \n",
    "    '''\n",
    "# # Data should come in prepared\n",
    "#     sig, test_HRTF = prepare_data(G, kemar_HRTF)\n",
    "\n",
    "# Flatten input HRTF into a neat-o line for ease of EN, also split into mono\n",
    "    flat_kemar = flatten_HRTF(db_weighted_HRTF)\n",
    "    flat_kemar_L, flat_kemar_R = flatten_HRTF_mono(test_HRTF)\n",
    "\n",
    "# Get db-weighted-HRIR at chosen azi/ele \n",
    "    db_HRIR = get_HRIR(db_weighted_HRTF, azimuth, elevation)\n",
    "    proc_HRIR_L = db_HRIR[0]\n",
    "\n",
    "# Train Regressor Model\n",
    "    regr3 = ElasticNetCV(cv=5, random_state=0, max_iter=500, normalize=True)\n",
    "\n",
    "    regr3.fit(flat_kemar_L.T,  proc_HRIR_L)\n",
    "\n",
    "# Once Trained, Generate a score chart based on fitted model of original HRTF dims\n",
    "# currently ignoring stereo\n",
    "\n",
    "    beta_scores = np.empty((db_weighted_HRTF.shape[0], db_weighted_HRTF.shape[1]),\\\n",
    "                           dtype=float);\n",
    "    \n",
    "    scoring_idx = 0;\n",
    "    for azi_idx in range(0, db_weighted_HRTF.shape[0]):\n",
    "        for ele_idx in range(0, db_weighted_HRTF.shape[1]):\n",
    "            proc_HRIR = get_HRIR(test_HRTF, (0 + (5 * azi_idx)), (-75 + (15 * ele_idx)),\\\n",
    "                                verbose=False)\n",
    "            proc_HRIR_L = proc_HRIR[0]\n",
    "            score = regr3.score(flat_kemar_L.T, proc_HRIR_L)\n",
    "            beta_scores[azi_idx, ele_idx] = score;\n",
    "    \n",
    "    return beta_scores"
   ]
  },
  {
   "cell_type": "code",
   "execution_count": 14,
   "metadata": {
    "scrolled": true
   },
   "outputs": [
    {
     "name": "stdout",
     "output_type": "stream",
     "text": [
      "Azi = 0 deg| Ele =  0 deg\n",
      "AziIdx = 0 | EleIdx = 5\n"
     ]
    },
    {
     "name": "stderr",
     "output_type": "stream",
     "text": [
      "/Users/samplatt/opt/anaconda3/lib/python3.8/site-packages/sklearn/linear_model/_coordinate_descent.py:529: ConvergenceWarning: Objective did not converge. You might want to increase the number of iterations. Duality gap: 0.1695109790944187, tolerance: 0.1588605754253411\n",
      "  model = cd_fast.enet_coordinate_descent(\n",
      "/Users/samplatt/opt/anaconda3/lib/python3.8/site-packages/sklearn/linear_model/_coordinate_descent.py:529: ConvergenceWarning: Objective did not converge. You might want to increase the number of iterations. Duality gap: 0.1991297433556607, tolerance: 0.1588605754253411\n",
      "  model = cd_fast.enet_coordinate_descent(\n",
      "/Users/samplatt/opt/anaconda3/lib/python3.8/site-packages/sklearn/linear_model/_coordinate_descent.py:529: ConvergenceWarning: Objective did not converge. You might want to increase the number of iterations. Duality gap: 0.18838742806828002, tolerance: 0.1588605754253411\n",
      "  model = cd_fast.enet_coordinate_descent(\n",
      "/Users/samplatt/opt/anaconda3/lib/python3.8/site-packages/sklearn/linear_model/_coordinate_descent.py:529: ConvergenceWarning: Objective did not converge. You might want to increase the number of iterations. Duality gap: 0.20495214512226667, tolerance: 0.1588605754253411\n",
      "  model = cd_fast.enet_coordinate_descent(\n",
      "/Users/samplatt/opt/anaconda3/lib/python3.8/site-packages/sklearn/linear_model/_coordinate_descent.py:529: ConvergenceWarning: Objective did not converge. You might want to increase the number of iterations. Duality gap: 0.27463229154447255, tolerance: 0.1588605754253411\n",
      "  model = cd_fast.enet_coordinate_descent(\n",
      "/Users/samplatt/opt/anaconda3/lib/python3.8/site-packages/sklearn/linear_model/_coordinate_descent.py:529: ConvergenceWarning: Objective did not converge. You might want to increase the number of iterations. Duality gap: 0.31486780110332724, tolerance: 0.1588605754253411\n",
      "  model = cd_fast.enet_coordinate_descent(\n",
      "/Users/samplatt/opt/anaconda3/lib/python3.8/site-packages/sklearn/linear_model/_coordinate_descent.py:529: ConvergenceWarning: Objective did not converge. You might want to increase the number of iterations. Duality gap: 0.25063263161684723, tolerance: 0.1588605754253411\n",
      "  model = cd_fast.enet_coordinate_descent(\n",
      "/Users/samplatt/opt/anaconda3/lib/python3.8/site-packages/sklearn/linear_model/_coordinate_descent.py:529: ConvergenceWarning: Objective did not converge. You might want to increase the number of iterations. Duality gap: 0.2374390146054628, tolerance: 0.1588605754253411\n",
      "  model = cd_fast.enet_coordinate_descent(\n",
      "/Users/samplatt/opt/anaconda3/lib/python3.8/site-packages/sklearn/linear_model/_coordinate_descent.py:529: ConvergenceWarning: Objective did not converge. You might want to increase the number of iterations. Duality gap: 0.2085841072267547, tolerance: 0.1588605754253411\n",
      "  model = cd_fast.enet_coordinate_descent(\n",
      "/Users/samplatt/opt/anaconda3/lib/python3.8/site-packages/sklearn/linear_model/_coordinate_descent.py:529: ConvergenceWarning: Objective did not converge. You might want to increase the number of iterations. Duality gap: 0.1659660557203546, tolerance: 0.1588605754253411\n",
      "  model = cd_fast.enet_coordinate_descent(\n"
     ]
    },
    {
     "name": "stdout",
     "output_type": "stream",
     "text": [
      "(72, 12)\n",
      "[-1.35818942 -0.69327269 -0.59060273 -0.49850561  0.48933994  0.95232097\n",
      "  0.65353976 -0.03680837 -1.05903541 -1.31903571 -2.00015348 -0.48572275]\n"
     ]
    }
   ],
   "source": [
    "## Testing process_Elastic_net using func\n",
    "\n",
    "scores = process_elastic_net(0, 0, test_HRTF)\n",
    "print(scores.shape)\n",
    "print(scores[0])"
   ]
  },
  {
   "cell_type": "code",
   "execution_count": 15,
   "metadata": {},
   "outputs": [
    {
     "name": "stdout",
     "output_type": "stream",
     "text": [
      "[-1.35818942 -0.69327269 -0.59060273 -0.49850561  0.48933994  0.95232097\n",
      "  0.65353976 -0.03680837 -1.05903541 -1.31903571 -2.00015348 -0.48572275]\n",
      "(32.350832767396156, 5.649257483307051)\n",
      "1.6952527050835597\n",
      "2.864214405530227\n"
     ]
    },
    {
     "data": {
      "text/plain": [
       "array([3, 3, 0, 0, 1, 4, 1, 2, 0, 1, 0, 2, 0, 0, 1])"
      ]
     },
     "execution_count": 15,
     "metadata": {},
     "output_type": "execute_result"
    }
   ],
   "source": [
    "def NormalizeData(data):\n",
    "    return (data - np.min(data)) / (np.max(data) - np.min(data))\n",
    "\n",
    "print(scores[0])\n",
    "scores_norm = NormalizeData(scores)\n",
    "scores_e = scores_norm**np.e\n",
    "\n",
    "centroid = ndimage.measurements.center_of_mass(scores_norm)\n",
    "print(centroid)\n",
    "\n",
    "stddev = np.std(scores)\n",
    "print(stddev)\n",
    "\n",
    "def rms(x):\n",
    "    return np.sqrt(np.vdot(x,x)/x.size)\n",
    "\n",
    "_rms = rms(scores)\n",
    "print(_rms)\n",
    "\n",
    "ndimage.measurements.histogram(scores, 0, 1, bins=15)"
   ]
  },
  {
   "cell_type": "code",
   "execution_count": 16,
   "metadata": {},
   "outputs": [
    {
     "data": {
      "text/plain": [
       "<matplotlib.patches.Circle at 0x7f8369a240a0>"
      ]
     },
     "execution_count": 16,
     "metadata": {},
     "output_type": "execute_result"
    },
    {
     "data": {
      "image/png": "[encoded data removed]",
      "text/plain": [
       "<Figure size 1036.8x172.8 with 2 Axes>"
      ]
     },
     "metadata": {
      "needs_background": "light"
     },
     "output_type": "display_data"
    }
   ],
   "source": [
    "# plt.pcolor(scores.T)\n",
    "# plt.colorbar()\n",
    "# plt.axis('scaled')\n",
    "# plt.figure(figsize=(40,10))\n",
    "\n",
    "def center_scores(scores, azimuth_index):\n",
    "    '''\n",
    "    Params:\n",
    "    \n",
    "    Centers scores array so input HRTF(alpha, varphi) is centered in array\n",
    "    \n",
    "    -------\n",
    "    scores : np.ndarray, shape=[n, m]\n",
    "    \n",
    "    azimuth : \n",
    "    \n",
    "    Returns:\n",
    "    --------\n",
    "    shifted_scores : np.ndarray, [shape=(n, m)]\n",
    "    \n",
    "    xticklabels : np.ndarray, [shape=(n,)]\n",
    "    '''\n",
    "    \n",
    "    # Need to create 3 sub-arrays: \n",
    "    # 'center' is [36]\n",
    "    # EITHER: \n",
    "    #    if azi_idx == 0 \n",
    "    #       azi = 0, slice 1 is 0:35, slice 2 is 36:71\n",
    "    #       cat(slice2, slice 1)\n",
    "    #    if 0 < azi_idx < 35\n",
    "    #       slice 1 is azi_idx:azi_idx + 35, slice 2 is azi_idx + 35:71, slice 3 is 0:azi_idx\n",
    "    #       cat(slice2, slice3, slice1)\n",
    "    #    if azi_idx == 36\n",
    "    #       it's centered, do nothing\n",
    "    #    if 36 < axi_idx < 71\n",
    "    #       slice 1 is azi_idx:71, slice 2 is 0:(azi_idx-36), slice 3 is azi_idx-35:azi_idx\n",
    "    #       cat(slice3, slice 1, slice 2)\n",
    "    \n",
    "#     centered_scores = np.concat(scores[])\n",
    "    \n",
    "    return centered_scores, xticklabels\n",
    "\n",
    "# plt_scores, xticklabels = shift_scores(scores_e)\n",
    "\n",
    "fig = plt.figure(figsize=(14.4, 2.4))\n",
    "ax = fig.add_subplot(111 )\n",
    "\n",
    "ax.set_title(\"E-N Regression Coefficients\")\n",
    "ax.set_xlabel(\"Azimuth\")\n",
    "ax.set_xticks(np.arange(0.5,73.5, 4))\n",
    "ax.set_xticklabels(np.arange(0, 361, 20))\n",
    "\n",
    "ax.set_ylabel(\"Elevation\")\n",
    "ax.set_yticks(np.arange(1.5,13.5,2))\n",
    "ax.set_yticklabels(np.arange(-60,91,30))\n",
    "\n",
    "ax.pcolor(scores_e.T)\n",
    "\n",
    "im=ax.pcolor(scores_e.T)\n",
    "fig.colorbar(im, ax=ax)\n",
    "plt.plot(centroid[0], centroid[1], '.r', label='centroid')\n",
    "circle = plt.Circle((centroid[0], centroid[1]), stddev, color='red', fill=False, ls='-.', lw=1.5)\n",
    "ax.add_artist(circle)"
   ]
  },
  {
   "cell_type": "code",
   "execution_count": 17,
   "metadata": {
    "scrolled": true
   },
   "outputs": [
    {
     "name": "stdout",
     "output_type": "stream",
     "text": [
      "Azi = 0 deg| Ele =  0 deg\n",
      "AziIdx = 0 | EleIdx = 5\n",
      "(128, 864) (128,)\n"
     ]
    },
    {
     "data": {
      "text/plain": [
       "ElasticNetCV(cv=5, random_state=0)"
      ]
     },
     "execution_count": 17,
     "metadata": {},
     "output_type": "execute_result"
    }
   ],
   "source": [
    "# # testing bones of elastic_net\n",
    "sig, test_HRTF = prepare_data(G, kemar_HRTF)\n",
    "\n",
    "flat_kemar = flatten_HRTF(test_HRTF)\n",
    "flat_kemar_L, flat_kemar_R = flatten_HRTF_mono(test_HRTF)\n",
    "\n",
    "proc_HRIR = get_HRIR(kemar_HRTF, 0, 0)\n",
    "db_HRIR = dB_weighted_fft(proc_HRIR)\n",
    "proc_HRIR_L = db_HRIR[0]\n",
    "proc_HRIR_R = db_HRIR[1]\n",
    "\n",
    "# plt.plot(test_HRTF[0,5,0])\n",
    "# plt.plot(proc_HRIR_L)\n",
    "\n",
    "regr3 = ElasticNetCV(cv=5, random_state=0, normalize=False)\n",
    "print(flat_kemar_L.T.shape, proc_HRIR_L.shape)\n",
    "\n",
    "regr3.fit(flat_kemar_L.T,  proc_HRIR_L)"
   ]
  },
  {
   "cell_type": "code",
   "execution_count": 18,
   "metadata": {},
   "outputs": [
    {
     "name": "stdout",
     "output_type": "stream",
     "text": [
      "Azi = 0 deg| Ele =  0 deg\n",
      "AziIdx = 0 | EleIdx = 5\n",
      "0.9875294942970827\n"
     ]
    }
   ],
   "source": [
    "proc_HRIR = get_HRIR(test_HRTF, 0, 0)\n",
    "proc_HRIR_L = proc_HRIR[0]\n",
    "\n",
    "score = regr3.score(flat_kemar_L.T, proc_HRIR_L)\n",
    "print(score)"
   ]
  },
  {
   "cell_type": "code",
   "execution_count": 19,
   "metadata": {},
   "outputs": [
    {
     "ename": "NameError",
     "evalue": "name 'regr2' is not defined",
     "output_type": "error",
     "traceback": [
      "\u001b[0;31m---------------------------------------------------------------------------\u001b[0m",
      "\u001b[0;31mNameError\u001b[0m                                 Traceback (most recent call last)",
      "\u001b[0;32m<ipython-input-19-45bb0fffd329>\u001b[0m in \u001b[0;36m<module>\u001b[0;34m\u001b[0m\n\u001b[1;32m      2\u001b[0m \u001b[0;34m\u001b[0m\u001b[0m\n\u001b[1;32m      3\u001b[0m \u001b[0;31m# print(np.argmax(regr2.coef_))\u001b[0m\u001b[0;34m\u001b[0m\u001b[0;34m\u001b[0m\u001b[0;34m\u001b[0m\u001b[0m\n\u001b[0;32m----> 4\u001b[0;31m \u001b[0mHRTF_phi_idx\u001b[0m \u001b[0;34m=\u001b[0m \u001b[0mnp\u001b[0m\u001b[0;34m.\u001b[0m\u001b[0margmax\u001b[0m\u001b[0;34m(\u001b[0m\u001b[0mregr2\u001b[0m\u001b[0;34m.\u001b[0m\u001b[0mcoef_\u001b[0m\u001b[0;34m)\u001b[0m \u001b[0;34m%\u001b[0m \u001b[0mkemar_HRTF\u001b[0m\u001b[0;34m.\u001b[0m\u001b[0mshape\u001b[0m\u001b[0;34m[\u001b[0m\u001b[0;36m0\u001b[0m\u001b[0;34m]\u001b[0m\u001b[0;34m\u001b[0m\u001b[0;34m\u001b[0m\u001b[0m\n\u001b[0m\u001b[1;32m      5\u001b[0m \u001b[0mHRTF_theta_idx\u001b[0m \u001b[0;34m=\u001b[0m \u001b[0mint\u001b[0m\u001b[0;34m(\u001b[0m\u001b[0mnp\u001b[0m\u001b[0;34m.\u001b[0m\u001b[0mfloor\u001b[0m\u001b[0;34m(\u001b[0m\u001b[0mnp\u001b[0m\u001b[0;34m.\u001b[0m\u001b[0margmax\u001b[0m\u001b[0;34m(\u001b[0m\u001b[0mregr2\u001b[0m\u001b[0;34m.\u001b[0m\u001b[0mcoef_\u001b[0m\u001b[0;34m)\u001b[0m \u001b[0;34m/\u001b[0m \u001b[0mkemar_HRTF\u001b[0m\u001b[0;34m.\u001b[0m\u001b[0mshape\u001b[0m\u001b[0;34m[\u001b[0m\u001b[0;36m0\u001b[0m\u001b[0;34m]\u001b[0m\u001b[0;34m)\u001b[0m\u001b[0;34m)\u001b[0m\u001b[0;34m\u001b[0m\u001b[0;34m\u001b[0m\u001b[0m\n\u001b[1;32m      6\u001b[0m \u001b[0mHRTF_phi_idx\u001b[0m\u001b[0;34m\u001b[0m\u001b[0;34m\u001b[0m\u001b[0m\n",
      "\u001b[0;31mNameError\u001b[0m: name 'regr2' is not defined"
     ]
    }
   ],
   "source": [
    "## Indexing stuff\n",
    "\n",
    "# print(np.argmax(regr2.coef_))\n",
    "HRTF_phi_idx = np.argmax(regr2.coef_) % kemar_HRTF.shape[0]\n",
    "HRTF_theta_idx = int(np.floor(np.argmax(regr2.coef_) / kemar_HRTF.shape[0]))\n",
    "HRTF_phi_idx\n",
    "HRTF_theta_idx\n",
    "# print(kemar_HRTF[0:10,:,0,0:5])"
   ]
  },
  {
   "cell_type": "code",
   "execution_count": null,
   "metadata": {},
   "outputs": [],
   "source": [
    "def obtain_MOS (audiofile_path, HRTF_path):\n",
    "    \n",
    "    '''Get MOS (np.array) from Audiofile for Specific HRTF\n",
    "    \n",
    "    MOS = {MOS-1, MOS-2, MOS-3, MOS-4}\n",
    "    \n",
    "    Parameters\n",
    "    ----------\n",
    "    audiofile_path : str\n",
    "        file name (*.wav) incl. path of stereo binaural signal\n",
    "        \n",
    "    HRTF_path: str\n",
    "        HRTF folder including (*.wav) HRIRs for convolution\n",
    "        \n",
    "        \n",
    "\n",
    "    Returns\n",
    "    -------\n",
    "    MOS : np.array, shape = (1, 4)\n",
    "        outputs 4 MOS values for input audio file:\n",
    "        \n",
    "        MOS-1: (E-N) Localization Precision of Spectral Magnitude\n",
    "        MOS-2: (E_N) Sptatial Variation / \"Spread\" of Spectral Magnitude\n",
    "        MOS-3: (JSD) Localization Precision of Spectral Magnitude\n",
    "        MOS-4: (JSD) Sptatial Variation / \"Spread\" of Spectral Magnitude\n",
    "        \n",
    "\n",
    "    \n",
    "    \n",
    "    \n",
    "    '''\n",
    "\n",
    "\n",
    "    \n",
    "    pass\n"
   ]
  },
  {
   "cell_type": "code",
   "execution_count": null,
   "metadata": {},
   "outputs": [],
   "source": [
    "iteration1 = new_IR_generation('Binaural_Chorus_Files/Iteration1_48k_24bit.wav', 'Binaural_Chorus_Files/dry_vox_48k_24bit.wav')\n",
    "iteration2 = new_IR_generation('Binaural_Chorus_Files/Iteration2_48k_24bit.wav', 'Binaural_Chorus_Files/dry_vox_48k_24bit.wav')\n",
    "iteration3 = new_IR_generation('Binaural_Chorus_Files/Iteration3_48k_24bit.wav', 'Binaural_Chorus_Files/dry_vox_48k_24bit.wav')\n",
    "iteration4 = new_IR_generation('Binaural_Chorus_Files/Iteration4_48k_24bit.wav', 'Binaural_Chorus_Files/dry_vox_48k_24bit.wav')\n",
    "iteration5 = new_IR_generation('Binaural_Chorus_Files/Iteration5_48k_24bit.wav', 'Binaural_Chorus_Files/dry_vox_48k_24bit.wav')\n",
    "iteration6 = new_IR_generation('Binaural_Chorus_Files/Iteration6_48k_24bit.wav', 'Binaural_Chorus_Files/dry_vox_48k_24bit.wav')\n",
    "iteration7 = new_IR_generation('Binaural_Chorus_Files/Iteration7_48k_24bit.wav', 'Binaural_Chorus_Files/dry_vox_48k_24bit.wav')"
   ]
  },
  {
   "cell_type": "code",
   "execution_count": null,
   "metadata": {},
   "outputs": [],
   "source": [
    "ipd.Audio(iteration7, rate=48000)"
   ]
  },
  {
   "cell_type": "code",
   "execution_count": null,
   "metadata": {},
   "outputs": [],
   "source": []
  }
 ],
 "metadata": {
  "kernelspec": {
   "display_name": "Python 3",
   "language": "python",
   "name": "python3"
  },
  "language_info": {
   "codemirror_mode": {
    "name": "ipython",
    "version": 3
   },
   "file_extension": ".py",
   "mimetype": "text/x-python",
   "name": "python",
   "nbconvert_exporter": "python",
   "pygments_lexer": "ipython3",
   "version": "3.8.5"
  }
 },
 "nbformat": 4,
 "nbformat_minor": 4
}
